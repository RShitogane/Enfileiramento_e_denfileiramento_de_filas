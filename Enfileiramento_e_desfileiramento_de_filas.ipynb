{
 "cells": [
  {
   "cell_type": "code",
   "execution_count": 3,
   "metadata": {},
   "outputs": [],
   "source": [
    "class Node:\n",
    "    def __init__(self, value):\n",
    "        self.value = value\n",
    "        self.next = None  "
   ]
  },
  {
   "cell_type": "code",
   "execution_count": 20,
   "metadata": {},
   "outputs": [
    {
     "name": "stdout",
     "output_type": "stream",
     "text": [
      "fila inicial:\n",
      "23 14 0 0 "
     ]
    }
   ],
   "source": [
    "class Queue:\n",
    "    def __init__(self):\n",
    "        self.front = None\n",
    "        self.rear = None\n",
    "    \n",
    "    def enqueue(self, value):\n",
    "        new_node = Node(value)\n",
    "\n",
    "        if self.front is None:\n",
    "            self.front = self.rear = new_node\n",
    "        else:\n",
    "            self.rear.next = new_node\n",
    "            self.rear = new_node \n",
    "\n",
    "    def dequeue(self):\n",
    "        if self.front is None:\n",
    "            raise Exception(\"A fila está vazia\")\n",
    "        \n",
    "        temp = self.front\n",
    "        self.front = self.front.next\n",
    "        \n",
    "        if self.front is None:\n",
    "            self.rear = None\n",
    "        \n",
    "        return temp.value\n",
    "\n",
    "    def peek(self):\n",
    "        if self.front is None:\n",
    "            raise Exception(\"A fila está vazia\")\n",
    "        \n",
    "        return self.front.value\n",
    "\n",
    "    def is_empty(self):\n",
    "        return self.front is None\n",
    "\n",
    "    def display_queue(self):\n",
    "        current = self.front\n",
    "        while current is not None:\n",
    "            print(current.value, end=\" \")\n",
    "            current = current.next  \n",
    "\n"
   ]
  },
  {
   "cell_type": "code",
   "execution_count": 21,
   "metadata": {},
   "outputs": [
    {
     "name": "stdout",
     "output_type": "stream",
     "text": [
      "Enfileirar Elementos:\n",
      "12 44 156 134 "
     ]
    }
   ],
   "source": [
    "q = Queue()\n",
    "q.enqueue(12)\n",
    "q.enqueue(44)\n",
    "q.enqueue(156)\n",
    "q.enqueue(134)\n",
    "\n",
    "\n",
    "print(\"Enfileirar Elementos:\")\n",
    "q.display_queue()"
   ]
  },
  {
   "cell_type": "code",
   "execution_count": 22,
   "metadata": {},
   "outputs": [
    {
     "name": "stdout",
     "output_type": "stream",
     "text": [
      "\n",
      "Fila após desenfileirar elementos:\n",
      "156 134 "
     ]
    }
   ],
   "source": [
    "q.dequeue()\n",
    "q.dequeue()\n",
    "\n",
    "\n",
    "print(\"\\nFila após desenfileirar elementos:\")\n",
    "q.display_queue()"
   ]
  },
  {
   "cell_type": "code",
   "execution_count": 25,
   "metadata": {},
   "outputs": [
    {
     "name": "stdout",
     "output_type": "stream",
     "text": [
      "\n",
      "Primeiro elemento da fila: 156\n",
      "A fila não está vazia.\n"
     ]
    }
   ],
   "source": [
    "print(\"\\nPrimeiro elemento da fila:\", q.peek())\n",
    "\n",
    "\n",
    "if q.is_empty():\n",
    "    print(\"A fila está vazia.\")\n",
    "else:\n",
    "    print(\"A fila não está vazia.\")\n"
   ]
  }
 ],
 "metadata": {
  "kernelspec": {
   "display_name": "Python 3",
   "language": "python",
   "name": "python3"
  },
  "language_info": {
   "codemirror_mode": {
    "name": "ipython",
    "version": 3
   },
   "file_extension": ".py",
   "mimetype": "text/x-python",
   "name": "python",
   "nbconvert_exporter": "python",
   "pygments_lexer": "ipython3",
   "version": "3.12.1"
  }
 },
 "nbformat": 4,
 "nbformat_minor": 2
}
